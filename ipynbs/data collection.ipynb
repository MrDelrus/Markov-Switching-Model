{
 "cells": [
  {
   "cell_type": "code",
   "execution_count": 14,
   "metadata": {},
   "outputs": [],
   "source": [
    "import yfinance as yf\n",
    "import pandas as pd\n",
    "import numpy as np\n",
    "\n",
    "import warnings\n",
    "\n",
    "warnings.filterwarnings('ignore')"
   ]
  },
  {
   "cell_type": "markdown",
   "metadata": {},
   "source": [
    "Сохраним интересующие нас тикеры."
   ]
  },
  {
   "cell_type": "code",
   "execution_count": null,
   "metadata": {},
   "outputs": [],
   "source": [
    "# Получение списка тикеров S&P 500\n",
    "def get_sp500_tickers():\n",
    "    url = \"https://en.wikipedia.org/wiki/List_of_S%26P_500_companies\"\n",
    "    table = pd.read_html(url)\n",
    "    df = table[0]\n",
    "    return df['Symbol'].tolist()\n",
    "\n",
    "# Проверка наличия данных для тикера с учетом минимальной даты\n",
    "def check_ticker_data(ticker, start_date, end_date):\n",
    "    try:\n",
    "        data = yf.download(ticker, start=start_date, end=end_date, progress=False)\n",
    "        if not data.empty:\n",
    "            if data.shape[0] == 2516:\n",
    "              return True\n",
    "    except Exception as e:\n",
    "      pass\n",
    "    return False\n",
    "\n",
    "# Параметры анализа\n",
    "start_date = \"2010-01-01\"\n",
    "end_date = \"2020-01-01\"\n",
    "\n",
    "# Получение списка тикеров S&P 500\n",
    "sp500_tickers = get_sp500_tickers()\n",
    "\n",
    "# Проверка тикеров и сохранение подходящих\n",
    "valid_tickers = []\n",
    "for ticker in sp500_tickers:\n",
    "  try:\n",
    "    if check_ticker_data(ticker, start_date, end_date):\n",
    "      valid_tickers.append(ticker)\n",
    "  except Exception as e:\n",
    "    pass\n",
    "\n",
    "# Сохранение результата\n",
    "print(\"Тикеры S&P 500 с доступными данными с 2010 года:\")\n",
    "print(valid_tickers)"
   ]
  },
  {
   "cell_type": "markdown",
   "metadata": {},
   "source": [
    "Подключим модель."
   ]
  },
  {
   "cell_type": "code",
   "execution_count": 5,
   "metadata": {},
   "outputs": [],
   "source": [
    "from python.make_backtest import *\n",
    "from python.collection import *\n",
    "from python.em import *\n",
    "from python.model import *\n",
    "from python.lib import *\n"
   ]
  },
  {
   "cell_type": "markdown",
   "metadata": {},
   "source": [
    "Сохраним данные:"
   ]
  },
  {
   "cell_type": "code",
   "execution_count": 16,
   "metadata": {},
   "outputs": [],
   "source": [
    "tickers_1 = valid_tickers[:50]\n",
    "tickers_2 = valid_tickers[50:100]\n",
    "tickers_3 = valid_tickers[100:150]\n",
    "tickers_4 = valid_tickers[150:200]\n",
    "tickers_5 = valid_tickers[200:250]\n",
    "tickers_6 = valid_tickers[250:300]\n",
    "tickers_7 = valid_tickers[300:350]\n",
    "tickers_8 = valid_tickers[350:]"
   ]
  },
  {
   "cell_type": "markdown",
   "metadata": {},
   "source": [
    "Первая часть:"
   ]
  },
  {
   "cell_type": "code",
   "execution_count": null,
   "metadata": {},
   "outputs": [],
   "source": [
    "for ticker in tqdm(tickers_1, leave=False, position=0):\n",
    "  fit_on_ticker(ticker, 'data/' + ticker + '.csv', start='2010-01-01', end='2020-01-01')"
   ]
  },
  {
   "cell_type": "markdown",
   "metadata": {},
   "source": [
    "Помимо этого, нас будут интересовать результаты бэктеста. Сделаем и это:"
   ]
  },
  {
   "cell_type": "code",
   "execution_count": 7,
   "metadata": {},
   "outputs": [],
   "source": [
    "alpha = 0.01\n",
    "\n",
    "def backtest_batch(tickers, alpha):\n",
    "  result = []\n",
    "  tickers_result = []\n",
    "  for ticker in tickers:\n",
    "    try:\n",
    "      msm_1, msm_2, em_1, em_2, exceptions = make_backtest(ticker, alpha)\n",
    "      result.append([msm_1, msm_2, em_1, em_2, exceptions])\n",
    "      tickers_result.append(ticker)\n",
    "    except:\n",
    "      pass\n",
    "  return pd.DataFrame(result, index=tickers_result, columns=['msm_bin', 'msm_geom', 'em_bin', 'em_geom', 'exceptions'])\n",
    "  "
   ]
  },
  {
   "cell_type": "code",
   "execution_count": null,
   "metadata": {},
   "outputs": [],
   "source": [
    "backtest_batch(tickers_1, alpha).to_csv('backtesting/batch_1.csv')"
   ]
  },
  {
   "cell_type": "markdown",
   "metadata": {},
   "source": [
    "Второй батч:"
   ]
  },
  {
   "cell_type": "code",
   "execution_count": null,
   "metadata": {},
   "outputs": [],
   "source": [
    "for ticker in tqdm(tickers_2, leave=False, position=0):\n",
    "  fit_on_ticker(ticker, 'data/' + ticker + '.csv', start='2010-01-01', end='2020-01-01')"
   ]
  },
  {
   "cell_type": "code",
   "execution_count": null,
   "metadata": {},
   "outputs": [],
   "source": [
    "backtest_batch(tickers_2, alpha).to_csv('backtesting/batch_2.csv')"
   ]
  },
  {
   "cell_type": "markdown",
   "metadata": {},
   "source": [
    "Третий:"
   ]
  },
  {
   "cell_type": "code",
   "execution_count": null,
   "metadata": {},
   "outputs": [],
   "source": [
    "for ticker in tqdm(tickers_3, leave=False, position=0):\n",
    "  try:\n",
    "    fit_on_ticker(ticker, 'data/' + ticker + '.csv', start='2010-01-01', end='2020-01-01')\n",
    "  except:\n",
    "    pass"
   ]
  },
  {
   "cell_type": "code",
   "execution_count": null,
   "metadata": {},
   "outputs": [],
   "source": [
    "backtest_batch(tickers_3, alpha).to_csv('backtesting/batch_3.csv')"
   ]
  },
  {
   "cell_type": "markdown",
   "metadata": {},
   "source": [
    "Четвертый:"
   ]
  },
  {
   "cell_type": "code",
   "execution_count": null,
   "metadata": {},
   "outputs": [],
   "source": [
    "for ticker in tqdm(tickers_4, leave=False, position=0):\n",
    "  try:\n",
    "    fit_on_ticker(ticker, 'data/' + ticker + '.csv', start='2010-01-01', end='2020-01-01')\n",
    "  except:\n",
    "    pass"
   ]
  },
  {
   "cell_type": "code",
   "execution_count": null,
   "metadata": {},
   "outputs": [],
   "source": [
    "backtest_batch(tickers_4, alpha).to_csv('backtesting/batch_4.csv')"
   ]
  },
  {
   "cell_type": "markdown",
   "metadata": {},
   "source": [
    "Пятый:"
   ]
  },
  {
   "cell_type": "code",
   "execution_count": null,
   "metadata": {},
   "outputs": [],
   "source": [
    "for ticker in tqdm(tickers_5, leave=False, position=0):\n",
    "  try:\n",
    "    fit_on_ticker(ticker, 'data/' + ticker + '.csv', start='2010-01-01', end='2020-01-01')\n",
    "  except:\n",
    "    pass"
   ]
  },
  {
   "cell_type": "code",
   "execution_count": null,
   "metadata": {},
   "outputs": [],
   "source": [
    "backtest_batch(tickers_5, alpha).to_csv('backtesting/batch_5.csv')"
   ]
  },
  {
   "cell_type": "markdown",
   "metadata": {},
   "source": [
    "Шестой:"
   ]
  },
  {
   "cell_type": "code",
   "execution_count": null,
   "metadata": {},
   "outputs": [],
   "source": [
    "for ticker in tqdm(tickers_6, leave=False, position=0):\n",
    "  try:\n",
    "    fit_on_ticker(ticker, 'data/' + ticker + '.csv', start='2010-01-01', end='2020-01-01')\n",
    "  except:\n",
    "    pass"
   ]
  },
  {
   "cell_type": "code",
   "execution_count": null,
   "metadata": {},
   "outputs": [],
   "source": [
    "backtest_batch(tickers_6, alpha).to_csv('backtesting/batch_6.csv')"
   ]
  },
  {
   "cell_type": "markdown",
   "metadata": {},
   "source": [
    "Седьмой:"
   ]
  },
  {
   "cell_type": "code",
   "execution_count": null,
   "metadata": {},
   "outputs": [],
   "source": [
    "for ticker in tqdm(tickers_7, leave=False, position=0):\n",
    "  try:\n",
    "    fit_on_ticker(ticker, 'data/' + ticker + '.csv', start='2010-01-01', end='2020-01-01')\n",
    "  except:\n",
    "    pass"
   ]
  },
  {
   "cell_type": "code",
   "execution_count": null,
   "metadata": {},
   "outputs": [],
   "source": [
    "backtest_batch(tickers_7, alpha).to_csv('backtesting/batch_7.csv')"
   ]
  },
  {
   "cell_type": "markdown",
   "metadata": {},
   "source": [
    "Восьмой (последний):"
   ]
  },
  {
   "cell_type": "code",
   "execution_count": null,
   "metadata": {},
   "outputs": [],
   "source": [
    "for ticker in tqdm(tickers_8, leave=False, position=0):\n",
    "  try:\n",
    "    fit_on_ticker(ticker, 'data/' + ticker + '.csv', start='2010-01-01', end='2020-01-01')\n",
    "  except:\n",
    "    pass"
   ]
  },
  {
   "cell_type": "code",
   "execution_count": null,
   "metadata": {},
   "outputs": [],
   "source": [
    "backtest_batch(tickers_8, alpha).to_csv('backtesting/batch_8.csv')"
   ]
  },
  {
   "cell_type": "markdown",
   "metadata": {},
   "source": [
    "Теперь можно посмотреть на результаты:"
   ]
  },
  {
   "cell_type": "code",
   "execution_count": null,
   "metadata": {},
   "outputs": [],
   "source": [
    "msm_bin = 0\n",
    "msm_geom = 0\n",
    "em_bin = 0\n",
    "em_geom = 0\n",
    "all_cnt = 0\n",
    "\n",
    "for i in range(1, 9):\n",
    "    table = pd.read_csv(f'backtesting/batch_{i}.csv')\n",
    "\n",
    "    msm_bin += table['msm_bin'].sum()\n",
    "    msm_geom += table['msm_geom'].sum()\n",
    "    em_bin += table['em_bin'].sum()\n",
    "    em_geom += table['em_geom'].sum()\n",
    "    all_cnt += table.shape[0]\n",
    "\n",
    "msm_bin, msm_geom, em_bin, em_geom, all_cnt"
   ]
  }
 ],
 "metadata": {
  "kernelspec": {
   "display_name": "Python 3",
   "language": "python",
   "name": "python3"
  },
  "language_info": {
   "codemirror_mode": {
    "name": "ipython",
    "version": 3
   },
   "file_extension": ".py",
   "mimetype": "text/x-python",
   "name": "python",
   "nbconvert_exporter": "python",
   "pygments_lexer": "ipython3",
   "version": "3.12.2"
  }
 },
 "nbformat": 4,
 "nbformat_minor": 2
}
